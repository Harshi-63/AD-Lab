{
  "nbformat": 4,
  "nbformat_minor": 0,
  "metadata": {
    "colab": {
      "provenance": [],
      "gpuType": "V28",
      "include_colab_link": true
    },
    "kernelspec": {
      "name": "python3",
      "display_name": "Python 3"
    },
    "language_info": {
      "name": "python"
    },
    "accelerator": "TPU"
  },
  "cells": [
    {
      "cell_type": "markdown",
      "metadata": {
        "id": "view-in-github",
        "colab_type": "text"
      },
      "source": [
        "<a href=\"https://colab.research.google.com/github/Harshi-63/AD-Lab/blob/main/Lab-2/CatDogModels.ipynb\" target=\"_parent\"><img src=\"https://colab.research.google.com/assets/colab-badge.svg\" alt=\"Open In Colab\"/></a>"
      ]
    },
    {
      "cell_type": "code",
      "execution_count": 1,
      "metadata": {
        "id": "cvhq_-Bhotxi",
        "colab": {
          "base_uri": "https://localhost:8080/"
        },
        "outputId": "f9cdf9b9-59e8-4c2d-ee02-689317461ba5"
      },
      "outputs": [
        {
          "output_type": "stream",
          "name": "stdout",
          "text": [
            "Downloading from https://www.kaggle.com/api/v1/datasets/download/salader/dogs-vs-cats?dataset_version_number=1...\n"
          ]
        },
        {
          "output_type": "stream",
          "name": "stderr",
          "text": [
            "100%|██████████| 1.06G/1.06G [00:16<00:00, 70.6MB/s]"
          ]
        },
        {
          "output_type": "stream",
          "name": "stdout",
          "text": [
            "Extracting files...\n"
          ]
        },
        {
          "output_type": "stream",
          "name": "stderr",
          "text": [
            "\n"
          ]
        },
        {
          "output_type": "stream",
          "name": "stdout",
          "text": [
            "Path to dataset files: /root/.cache/kagglehub/datasets/salader/dogs-vs-cats/versions/1\n"
          ]
        }
      ],
      "source": [
        "import kagglehub\n",
        "\n",
        "# Download latest version\n",
        "path = kagglehub.dataset_download(\"salader/dogs-vs-cats\")\n",
        "\n",
        "print(\"Path to dataset files:\", path)"
      ]
    },
    {
      "cell_type": "code",
      "source": [
        "import os\n",
        "import numpy as np\n",
        "from tensorflow.keras.utils import image_dataset_from_directory\n",
        "from sklearn.model_selection import train_test_split\n"
      ],
      "metadata": {
        "id": "4I87TVJtpRra"
      },
      "execution_count": 7,
      "outputs": []
    },
    {
      "cell_type": "code",
      "source": [],
      "metadata": {
        "id": "hnleabQQx2jq"
      },
      "execution_count": null,
      "outputs": []
    },
    {
      "cell_type": "code",
      "source": [
        "import tensorflow as tf\n",
        "import numpy as np\n",
        "from sklearn.model_selection import train_test_split\n",
        "from tensorflow.keras.utils import image_dataset_from_directory\n",
        "\n",
        "# Define paths for training and testing datasets\n",
        "train_dir = \"/root/.cache/kagglehub/datasets/salader/dogs-vs-cats/versions/1/train\"\n",
        "test_dir = \"/root/.cache/kagglehub/datasets/salader/dogs-vs-cats/versions/1/test\"\n",
        "\n",
        "# Function to normalize the images (on-the-fly)\n",
        "def normalize_image(image, label):\n",
        "    image = tf.cast(image, tf.float32) / 255.0  # Normalize pixel values to [0, 1]\n",
        "    return image, label\n",
        "\n",
        "# Create the training dataset\n",
        "train_ds = image_dataset_from_directory(\n",
        "    train_dir,\n",
        "    labels=\"inferred\",\n",
        "    label_mode=\"categorical\",  # One-hot encoding of labels\n",
        "    batch_size=32,\n",
        "    image_size=(64, 64),       # Resize all images to 64x64\n",
        "    shuffle=True,              # Shuffle the dataset\n",
        "    seed=123                   # Set a seed for reproducibility\n",
        ")\n",
        "\n",
        "# Apply normalization to the training dataset on-the-fly\n",
        "train_ds = train_ds.map(normalize_image)\n",
        "\n",
        "# Create the test dataset\n",
        "test_ds = image_dataset_from_directory(\n",
        "    test_dir,\n",
        "    labels=\"inferred\",\n",
        "    label_mode=\"categorical\",  # One-hot encoding of labels\n",
        "    batch_size=32,\n",
        "    image_size=(64, 64),\n",
        "    shuffle=False              # Do not shuffle the test set\n",
        ")\n",
        "\n",
        "# Apply normalization to the test dataset on-the-fly\n",
        "test_ds = test_ds.map(normalize_image)\n",
        "\n",
        "# Convert the training dataset to numpy arrays (Optional: For further processing outside TensorFlow)\n",
        "# We will now iterate through the dataset and store batches in numpy arrays\n",
        "X_train, y_train = [], []\n",
        "for batch, labels in train_ds:\n",
        "    X_train.append(batch.numpy())\n",
        "    y_train.append(labels.numpy())\n",
        "\n",
        "X_train = np.concatenate(X_train, axis=0)  # Concatenate all batches into one array\n",
        "y_train = np.concatenate(y_train, axis=0)  # Concatenate all label batches\n",
        "\n",
        "# Convert one-hot labels to integer labels\n",
        "y_train_labels = np.argmax(y_train, axis=1)\n",
        "\n",
        "# Normalize and flatten images for traditional ML models (Optional)\n",
        "X_train_flat = X_train.reshape(X_train.shape[0], -1)  # Flatten the images\n",
        "X_train_flat /= 255.0  # Normalize pixel values to [0, 1]\n",
        "\n",
        "# Split the dataset into training and validation sets\n",
        "X_train_split, X_test_split, y_train_split, y_test_split = train_test_split(\n",
        "    X_train_flat, y_train_labels, test_size=0.2, random_state=42\n",
        ")\n",
        "\n",
        "# Now X_train_split, y_train_split can be used to train ML models like SVM, Random Forest, etc.\n",
        "# And X_test_split, y_test_split can be used for evaluation\n",
        "\n",
        "\n"
      ],
      "metadata": {
        "id": "GIKIR_TkpWNq",
        "colab": {
          "base_uri": "https://localhost:8080/"
        },
        "outputId": "d3a417d8-55da-4ef8-a30c-d88fecf62ea3"
      },
      "execution_count": 1,
      "outputs": [
        {
          "output_type": "stream",
          "name": "stdout",
          "text": [
            "Found 20000 files belonging to 2 classes.\n",
            "Found 5000 files belonging to 2 classes.\n"
          ]
        }
      ]
    },
    {
      "cell_type": "code",
      "source": [
        "from sklearn.linear_model import LogisticRegression\n",
        "from sklearn.metrics import accuracy_score\n",
        "\n",
        "# Initialize Logistic Regression\n",
        "log_reg_model = LogisticRegression(max_iter=1000, random_state=42)\n",
        "\n",
        "# Train the model\n",
        "log_reg_model.fit(X_train_split, y_train_split)\n",
        "\n",
        "# Make predictions\n",
        "y_pred = log_reg_model.predict(X_test_split)\n",
        "\n",
        "# Evaluate accuracy\n",
        "log_reg_accuracy = accuracy_score(y_test_split, y_pred)\n",
        "print(f\"Logistic Regression Accuracy: {log_reg_accuracy:.4f}\")\n"
      ],
      "metadata": {
        "id": "qpjGIbM8-8KA",
        "colab": {
          "base_uri": "https://localhost:8080/"
        },
        "outputId": "ccf1c550-ff7a-4a49-bf85-1ac08ad0f6c3"
      },
      "execution_count": 3,
      "outputs": [
        {
          "output_type": "stream",
          "name": "stdout",
          "text": [
            "Logistic Regression Accuracy: 0.5563\n"
          ]
        }
      ]
    },
    {
      "cell_type": "code",
      "source": [
        "from sklearn.ensemble import RandomForestClassifier\n",
        "\n",
        "# Initialize Random Forest Classifier\n",
        "rf_model = RandomForestClassifier(n_estimators=100, random_state=42)\n",
        "\n",
        "# Train the model\n",
        "rf_model.fit(X_train_split, y_train_split)\n",
        "\n",
        "# Make predictions\n",
        "y_pred_rf = rf_model.predict(X_test_split)\n",
        "\n",
        "# Evaluate accuracy\n",
        "rf_accuracy = accuracy_score(y_test_split, y_pred_rf)\n",
        "print(f\"Random Forest Accuracy: {rf_accuracy:.4f}\")\n"
      ],
      "metadata": {
        "id": "XTrlUwk-_OuZ",
        "colab": {
          "base_uri": "https://localhost:8080/"
        },
        "outputId": "b74e43e0-9ffa-4b64-ef62-6ed61781d5b7"
      },
      "execution_count": 4,
      "outputs": [
        {
          "output_type": "stream",
          "name": "stdout",
          "text": [
            "Random Forest Accuracy: 0.6558\n"
          ]
        }
      ]
    },
    {
      "cell_type": "code",
      "source": [
        "from sklearn.linear_model import SGDClassifier\n",
        "\n",
        "# Faster version of SVM using Stochastic Gradient Descent\n",
        "svm_sgd = SGDClassifier(loss=\"hinge\", alpha=0.0001, max_iter=1000, tol=1e-3, random_state=42)\n",
        "\n",
        "# Train model\n",
        "svm_sgd.fit(X_train_split, y_train_split)\n",
        "\n",
        "# Evaluate\n",
        "svm_sgd_accuracy = svm_sgd.score(X_test_split, y_test_split)\n",
        "print(f\"SVM (SGD) Accuracy: {svm_sgd_accuracy:.4f}\")\n"
      ],
      "metadata": {
        "id": "EKHJG2ByAeiQ",
        "colab": {
          "base_uri": "https://localhost:8080/"
        },
        "outputId": "0659e839-bcb5-43b0-bf3a-9fcb4755d7d3"
      },
      "execution_count": 2,
      "outputs": [
        {
          "output_type": "stream",
          "name": "stdout",
          "text": [
            "SVM (SGD) Accuracy: 0.5547\n"
          ]
        }
      ]
    },
    {
      "cell_type": "code",
      "source": [
        "from sklearn.cluster import KMeans\n",
        "from sklearn.metrics import adjusted_rand_score, accuracy_score\n",
        "\n",
        "# Initialize K-means\n",
        "kmeans_model = KMeans(n_clusters=2, random_state=42, n_init=10)\n",
        "\n",
        "# Train the model (fit K-means to the data)\n",
        "kmeans_model.fit(X_train_split)\n",
        "\n",
        "# Get the predicted clusters (K-means is unsupervised, so clusters are arbitrary)\n",
        "y_pred_kmeans = kmeans_model.predict(X_test_split)\n",
        "\n",
        "# Adjust cluster labels to match actual labels (since K-means doesn't assign specific labels)\n",
        "# This is done by checking which cluster corresponds better to \"Dog\" or \"Cat\"\n",
        "from scipy.stats import mode\n",
        "\n",
        "def match_labels(y_true, y_pred):\n",
        "    labels = np.zeros_like(y_pred)\n",
        "    for i in range(2):  # We have two clusters (dogs vs cats)\n",
        "        mask = (y_pred == i)\n",
        "        labels[mask] = mode(y_true[mask])[0]\n",
        "    return labels\n",
        "\n",
        "# Adjust predicted labels to match ground truth\n",
        "y_pred_kmeans_adjusted = match_labels(y_test_split, y_pred_kmeans)\n",
        "\n",
        "# Compute accuracy\n",
        "kmeans_accuracy = accuracy_score(y_test_split, y_pred_kmeans_adjusted)\n",
        "print(f\"K-means Clustering Accuracy: {kmeans_accuracy:.4f}\")\n",
        "\n",
        "# Compute Adjusted Rand Index (better for clustering evaluation)\n",
        "kmeans_ari = adjusted_rand_score(y_test_split, y_pred_kmeans)\n",
        "print(f\"K-means Clustering Adjusted Rand Index: {kmeans_ari:.4f}\")\n"
      ],
      "metadata": {
        "id": "_rT746HbF3Fd",
        "colab": {
          "base_uri": "https://localhost:8080/"
        },
        "outputId": "ae0ccdba-f1af-42ec-fb7a-598f134a568b"
      },
      "execution_count": 6,
      "outputs": [
        {
          "output_type": "stream",
          "name": "stdout",
          "text": [
            "K-means Clustering Accuracy: 0.5215\n",
            "K-means Clustering Adjusted Rand Index: 0.0016\n"
          ]
        }
      ]
    },
    {
      "cell_type": "code",
      "source": [
        "import joblib\n",
        "\n",
        "# Save models\n",
        "joblib.dump(svm_sgd, \"svm_model.pkl\")\n",
        "joblib.dump(rf_model, \"random_forest_model.pkl\")\n",
        "joblib.dump(log_reg_model, \"log_reg_model.pkl\")\n",
        "joblib.dump(kmeans_model, \"kmeans_model.pkl\")\n",
        "\n",
        "print(\"Models saved successfully!\")\n"
      ],
      "metadata": {
        "colab": {
          "base_uri": "https://localhost:8080/"
        },
        "id": "lMeSqzJFR244",
        "outputId": "8e0fcdca-69f6-452b-a0e6-8d1df26314e3"
      },
      "execution_count": 9,
      "outputs": [
        {
          "output_type": "stream",
          "name": "stdout",
          "text": [
            "Models saved successfully!\n"
          ]
        }
      ]
    }
  ]
}